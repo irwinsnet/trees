{
 "cells": [
  {
   "cell_type": "code",
   "execution_count": 2,
   "id": "9dd90b02-b8f9-4260-9001-d69a34949e95",
   "metadata": {},
   "outputs": [],
   "source": [
    "import pandas as pd\n",
    "\n",
    "import ctrees as trees\n",
    "import util"
   ]
  },
  {
   "cell_type": "code",
   "execution_count": 3,
   "id": "df23a702-bad8-4a1c-9c01-11ceb308afba",
   "metadata": {},
   "outputs": [],
   "source": [
    "bikes = pd.read_csv(\"SeoulBikeData.csv\")\n",
    "train, dev = util.split(bikes, [0.8, 0.2], seed=2022)\n",
    "\n",
    "TARGET = \"Rented Bike Count\""
   ]
  },
  {
   "cell_type": "code",
   "execution_count": 4,
   "id": "6fb6ac5e-84c1-41eb-be45-5bd524c7a70a",
   "metadata": {},
   "outputs": [],
   "source": [
    "dtree = trees.Tree(min_leaf_size=500, verbose=False)"
   ]
  },
  {
   "cell_type": "code",
   "execution_count": 5,
   "id": "fc46145c-ff04-4d2e-ad1e-ba96d57ad230",
   "metadata": {},
   "outputs": [
    {
     "name": "stdout",
     "output_type": "stream",
     "text": [
      "Training Complete\n",
      "Elapsed Time (min):  0.42600428660710654\n"
     ]
    }
   ],
   "source": [
    "dtree.train(train, TARGET)"
   ]
  },
  {
   "cell_type": "code",
   "execution_count": 6,
   "id": "4a664ad1-69ed-4568-9c89-adcfafdffc5b",
   "metadata": {},
   "outputs": [
    {
     "data": {
      "text/plain": [
       "21"
      ]
     },
     "execution_count": 6,
     "metadata": {},
     "output_type": "execute_result"
    }
   ],
   "source": [
    "len(dtree.tree)"
   ]
  },
  {
   "cell_type": "code",
   "execution_count": 7,
   "id": "8889697b-4bb6-4fa9-9a53-f1bebdb0a607",
   "metadata": {},
   "outputs": [
    {
     "data": {
      "text/plain": [
       "10      240.992272\n",
       "12      315.309751\n",
       "17      315.309751\n",
       "34      315.309751\n",
       "38      518.811321\n",
       "           ...    \n",
       "8748    639.431267\n",
       "8750    639.431267\n",
       "8754    639.431267\n",
       "8757    639.431267\n",
       "8759    639.431267\n",
       "Length: 1752, dtype: float64"
      ]
     },
     "execution_count": 7,
     "metadata": {},
     "output_type": "execute_result"
    }
   ],
   "source": [
    "preds = dtree.predict(dev)\n",
    "preds"
   ]
  },
  {
   "cell_type": "code",
   "execution_count": 8,
   "id": "6e6432a6-8272-4603-8530-062be6e59f45",
   "metadata": {},
   "outputs": [
    {
     "data": {
      "text/html": [
       "<div>\n",
       "<style scoped>\n",
       "    .dataframe tbody tr th:only-of-type {\n",
       "        vertical-align: middle;\n",
       "    }\n",
       "\n",
       "    .dataframe tbody tr th {\n",
       "        vertical-align: top;\n",
       "    }\n",
       "\n",
       "    .dataframe thead th {\n",
       "        text-align: right;\n",
       "    }\n",
       "</style>\n",
       "<table border=\"1\" class=\"dataframe\">\n",
       "  <thead>\n",
       "    <tr style=\"text-align: right;\">\n",
       "      <th></th>\n",
       "      <th>Date</th>\n",
       "      <th>Rented Bike Count</th>\n",
       "      <th>Hour</th>\n",
       "      <th>Temperature(°C)</th>\n",
       "      <th>Humidity(%)</th>\n",
       "      <th>Wind speed (m/s)</th>\n",
       "      <th>Visibility (10m)</th>\n",
       "      <th>Dew point temperature(°C)</th>\n",
       "      <th>Solar Radiation (MJ/m2)</th>\n",
       "      <th>Rainfall(mm)</th>\n",
       "      <th>Snowfall (cm)</th>\n",
       "      <th>Seasons</th>\n",
       "      <th>Holiday</th>\n",
       "      <th>Functioning Day</th>\n",
       "      <th>preds</th>\n",
       "    </tr>\n",
       "  </thead>\n",
       "  <tbody>\n",
       "    <tr>\n",
       "      <th>10</th>\n",
       "      <td>1/12/2017</td>\n",
       "      <td>339</td>\n",
       "      <td>10</td>\n",
       "      <td>-3.5</td>\n",
       "      <td>24</td>\n",
       "      <td>1.2</td>\n",
       "      <td>1996</td>\n",
       "      <td>-21.2</td>\n",
       "      <td>0.65</td>\n",
       "      <td>0.0</td>\n",
       "      <td>0.0</td>\n",
       "      <td>Winter</td>\n",
       "      <td>No Holiday</td>\n",
       "      <td>Yes</td>\n",
       "      <td>240.992272</td>\n",
       "    </tr>\n",
       "    <tr>\n",
       "      <th>12</th>\n",
       "      <td>1/12/2017</td>\n",
       "      <td>449</td>\n",
       "      <td>12</td>\n",
       "      <td>1.7</td>\n",
       "      <td>23</td>\n",
       "      <td>1.4</td>\n",
       "      <td>2000</td>\n",
       "      <td>-17.2</td>\n",
       "      <td>1.11</td>\n",
       "      <td>0.0</td>\n",
       "      <td>0.0</td>\n",
       "      <td>Winter</td>\n",
       "      <td>No Holiday</td>\n",
       "      <td>Yes</td>\n",
       "      <td>315.309751</td>\n",
       "    </tr>\n",
       "    <tr>\n",
       "      <th>17</th>\n",
       "      <td>1/12/2017</td>\n",
       "      <td>555</td>\n",
       "      <td>17</td>\n",
       "      <td>0.8</td>\n",
       "      <td>58</td>\n",
       "      <td>1.6</td>\n",
       "      <td>2000</td>\n",
       "      <td>-6.5</td>\n",
       "      <td>0.08</td>\n",
       "      <td>0.0</td>\n",
       "      <td>0.0</td>\n",
       "      <td>Winter</td>\n",
       "      <td>No Holiday</td>\n",
       "      <td>Yes</td>\n",
       "      <td>315.309751</td>\n",
       "    </tr>\n",
       "    <tr>\n",
       "      <th>34</th>\n",
       "      <td>2/12/2017</td>\n",
       "      <td>334</td>\n",
       "      <td>10</td>\n",
       "      <td>-0.4</td>\n",
       "      <td>57</td>\n",
       "      <td>1.6</td>\n",
       "      <td>1309</td>\n",
       "      <td>-7.8</td>\n",
       "      <td>0.80</td>\n",
       "      <td>0.0</td>\n",
       "      <td>0.0</td>\n",
       "      <td>Winter</td>\n",
       "      <td>No Holiday</td>\n",
       "      <td>Yes</td>\n",
       "      <td>315.309751</td>\n",
       "    </tr>\n",
       "    <tr>\n",
       "      <th>38</th>\n",
       "      <td>2/12/2017</td>\n",
       "      <td>611</td>\n",
       "      <td>14</td>\n",
       "      <td>7.3</td>\n",
       "      <td>35</td>\n",
       "      <td>1.3</td>\n",
       "      <td>1955</td>\n",
       "      <td>-7.1</td>\n",
       "      <td>0.99</td>\n",
       "      <td>0.0</td>\n",
       "      <td>0.0</td>\n",
       "      <td>Winter</td>\n",
       "      <td>No Holiday</td>\n",
       "      <td>Yes</td>\n",
       "      <td>518.811321</td>\n",
       "    </tr>\n",
       "    <tr>\n",
       "      <th>...</th>\n",
       "      <td>...</td>\n",
       "      <td>...</td>\n",
       "      <td>...</td>\n",
       "      <td>...</td>\n",
       "      <td>...</td>\n",
       "      <td>...</td>\n",
       "      <td>...</td>\n",
       "      <td>...</td>\n",
       "      <td>...</td>\n",
       "      <td>...</td>\n",
       "      <td>...</td>\n",
       "      <td>...</td>\n",
       "      <td>...</td>\n",
       "      <td>...</td>\n",
       "      <td>...</td>\n",
       "    </tr>\n",
       "    <tr>\n",
       "      <th>8748</th>\n",
       "      <td>30/11/2018</td>\n",
       "      <td>720</td>\n",
       "      <td>12</td>\n",
       "      <td>6.6</td>\n",
       "      <td>35</td>\n",
       "      <td>1.3</td>\n",
       "      <td>1409</td>\n",
       "      <td>-7.8</td>\n",
       "      <td>1.70</td>\n",
       "      <td>0.0</td>\n",
       "      <td>0.0</td>\n",
       "      <td>Autumn</td>\n",
       "      <td>No Holiday</td>\n",
       "      <td>Yes</td>\n",
       "      <td>639.431267</td>\n",
       "    </tr>\n",
       "    <tr>\n",
       "      <th>8750</th>\n",
       "      <td>30/11/2018</td>\n",
       "      <td>761</td>\n",
       "      <td>14</td>\n",
       "      <td>7.8</td>\n",
       "      <td>20</td>\n",
       "      <td>2.2</td>\n",
       "      <td>2000</td>\n",
       "      <td>-13.8</td>\n",
       "      <td>1.67</td>\n",
       "      <td>0.0</td>\n",
       "      <td>0.0</td>\n",
       "      <td>Autumn</td>\n",
       "      <td>No Holiday</td>\n",
       "      <td>Yes</td>\n",
       "      <td>639.431267</td>\n",
       "    </tr>\n",
       "    <tr>\n",
       "      <th>8754</th>\n",
       "      <td>30/11/2018</td>\n",
       "      <td>1384</td>\n",
       "      <td>18</td>\n",
       "      <td>4.7</td>\n",
       "      <td>34</td>\n",
       "      <td>1.9</td>\n",
       "      <td>1661</td>\n",
       "      <td>-9.8</td>\n",
       "      <td>0.00</td>\n",
       "      <td>0.0</td>\n",
       "      <td>0.0</td>\n",
       "      <td>Autumn</td>\n",
       "      <td>No Holiday</td>\n",
       "      <td>Yes</td>\n",
       "      <td>639.431267</td>\n",
       "    </tr>\n",
       "    <tr>\n",
       "      <th>8757</th>\n",
       "      <td>30/11/2018</td>\n",
       "      <td>694</td>\n",
       "      <td>21</td>\n",
       "      <td>2.6</td>\n",
       "      <td>39</td>\n",
       "      <td>0.3</td>\n",
       "      <td>1968</td>\n",
       "      <td>-9.9</td>\n",
       "      <td>0.00</td>\n",
       "      <td>0.0</td>\n",
       "      <td>0.0</td>\n",
       "      <td>Autumn</td>\n",
       "      <td>No Holiday</td>\n",
       "      <td>Yes</td>\n",
       "      <td>639.431267</td>\n",
       "    </tr>\n",
       "    <tr>\n",
       "      <th>8759</th>\n",
       "      <td>30/11/2018</td>\n",
       "      <td>584</td>\n",
       "      <td>23</td>\n",
       "      <td>1.9</td>\n",
       "      <td>43</td>\n",
       "      <td>1.3</td>\n",
       "      <td>1909</td>\n",
       "      <td>-9.3</td>\n",
       "      <td>0.00</td>\n",
       "      <td>0.0</td>\n",
       "      <td>0.0</td>\n",
       "      <td>Autumn</td>\n",
       "      <td>No Holiday</td>\n",
       "      <td>Yes</td>\n",
       "      <td>639.431267</td>\n",
       "    </tr>\n",
       "  </tbody>\n",
       "</table>\n",
       "<p>1752 rows × 15 columns</p>\n",
       "</div>"
      ],
      "text/plain": [
       "            Date  Rented Bike Count  Hour  Temperature(°C)  Humidity(%)  \\\n",
       "10     1/12/2017                339    10             -3.5           24   \n",
       "12     1/12/2017                449    12              1.7           23   \n",
       "17     1/12/2017                555    17              0.8           58   \n",
       "34     2/12/2017                334    10             -0.4           57   \n",
       "38     2/12/2017                611    14              7.3           35   \n",
       "...          ...                ...   ...              ...          ...   \n",
       "8748  30/11/2018                720    12              6.6           35   \n",
       "8750  30/11/2018                761    14              7.8           20   \n",
       "8754  30/11/2018               1384    18              4.7           34   \n",
       "8757  30/11/2018                694    21              2.6           39   \n",
       "8759  30/11/2018                584    23              1.9           43   \n",
       "\n",
       "      Wind speed (m/s)  Visibility (10m)  Dew point temperature(°C)  \\\n",
       "10                 1.2              1996                      -21.2   \n",
       "12                 1.4              2000                      -17.2   \n",
       "17                 1.6              2000                       -6.5   \n",
       "34                 1.6              1309                       -7.8   \n",
       "38                 1.3              1955                       -7.1   \n",
       "...                ...               ...                        ...   \n",
       "8748               1.3              1409                       -7.8   \n",
       "8750               2.2              2000                      -13.8   \n",
       "8754               1.9              1661                       -9.8   \n",
       "8757               0.3              1968                       -9.9   \n",
       "8759               1.3              1909                       -9.3   \n",
       "\n",
       "      Solar Radiation (MJ/m2)  Rainfall(mm)  Snowfall (cm) Seasons  \\\n",
       "10                       0.65           0.0            0.0  Winter   \n",
       "12                       1.11           0.0            0.0  Winter   \n",
       "17                       0.08           0.0            0.0  Winter   \n",
       "34                       0.80           0.0            0.0  Winter   \n",
       "38                       0.99           0.0            0.0  Winter   \n",
       "...                       ...           ...            ...     ...   \n",
       "8748                     1.70           0.0            0.0  Autumn   \n",
       "8750                     1.67           0.0            0.0  Autumn   \n",
       "8754                     0.00           0.0            0.0  Autumn   \n",
       "8757                     0.00           0.0            0.0  Autumn   \n",
       "8759                     0.00           0.0            0.0  Autumn   \n",
       "\n",
       "         Holiday Functioning Day       preds  \n",
       "10    No Holiday             Yes  240.992272  \n",
       "12    No Holiday             Yes  315.309751  \n",
       "17    No Holiday             Yes  315.309751  \n",
       "34    No Holiday             Yes  315.309751  \n",
       "38    No Holiday             Yes  518.811321  \n",
       "...          ...             ...         ...  \n",
       "8748  No Holiday             Yes  639.431267  \n",
       "8750  No Holiday             Yes  639.431267  \n",
       "8754  No Holiday             Yes  639.431267  \n",
       "8757  No Holiday             Yes  639.431267  \n",
       "8759  No Holiday             Yes  639.431267  \n",
       "\n",
       "[1752 rows x 15 columns]"
      ]
     },
     "execution_count": 8,
     "metadata": {},
     "output_type": "execute_result"
    }
   ],
   "source": [
    "dev.assign(preds = preds)"
   ]
  },
  {
   "cell_type": "code",
   "execution_count": 9,
   "id": "0d6c1d36-de53-47bb-9b65-87410fb17813",
   "metadata": {},
   "outputs": [
    {
     "data": {
      "text/plain": [
       "(1752, 14)"
      ]
     },
     "execution_count": 9,
     "metadata": {},
     "output_type": "execute_result"
    }
   ],
   "source": [
    "dev.shape"
   ]
  },
  {
   "cell_type": "code",
   "execution_count": 10,
   "id": "91d56c47-fca4-406a-b95d-ad275df57786",
   "metadata": {},
   "outputs": [],
   "source": [
    "import matplotlib.pyplot as plt\n",
    "import seaborn as sns"
   ]
  },
  {
   "cell_type": "code",
   "execution_count": 11,
   "id": "2b154394-800d-4be2-8773-1a2adc400a7e",
   "metadata": {},
   "outputs": [
    {
     "data": {
      "text/plain": [
       "<AxesSubplot:xlabel='Rented Bike Count', ylabel='Count'>"
      ]
     },
     "execution_count": 11,
     "metadata": {},
     "output_type": "execute_result"
    },
    {
     "data": {
      "image/png": "[encoded data removed]",
      "text/plain": [
       "<Figure size 432x288 with 1 Axes>"
      ]
     },
     "metadata": {
      "needs_background": "light"
     },
     "output_type": "display_data"
    }
   ],
   "source": [
    "sns.histplot(dev, x=\"Rented Bike Count\")"
   ]
  },
  {
   "cell_type": "code",
   "execution_count": 12,
   "id": "7d0f32dd-495d-42f8-9864-72e19ed97cf2",
   "metadata": {},
   "outputs": [
    {
     "data": {
      "text/plain": [
       "<AxesSubplot:ylabel='Count'>"
      ]
     },
     "execution_count": 12,
     "metadata": {},
     "output_type": "execute_result"
    },
    {
     "data": {
      "image/png": "[encoded data removed]",
      "text/plain": [
       "<Figure size 432x288 with 1 Axes>"
      ]
     },
     "metadata": {
      "needs_background": "light"
     },
     "output_type": "display_data"
    }
   ],
   "source": [
    "sns.histplot(preds)"
   ]
  },
  {
   "cell_type": "code",
   "execution_count": null,
   "id": "c747d937-aed9-4840-93c4-219bdf5df125",
   "metadata": {},
   "outputs": [],
   "source": []
  }
 ],
 "metadata": {
  "kernelspec": {
   "display_name": "Python 3 (ipykernel)",
   "language": "python",
   "name": "python3"
  },
  "language_info": {
   "codemirror_mode": {
    "name": "ipython",
    "version": 3
   },
   "file_extension": ".py",
   "mimetype": "text/x-python",
   "name": "python",
   "nbconvert_exporter": "python",
   "pygments_lexer": "ipython3",
   "version": "3.9.7"
  }
 },
 "nbformat": 4,
 "nbformat_minor": 5
}
