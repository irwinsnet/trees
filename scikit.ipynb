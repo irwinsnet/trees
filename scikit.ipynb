{
 "cells": [
  {
   "cell_type": "markdown",
   "id": "57a03084-0001-4f54-8c6e-9872aad4ff04",
   "metadata": {},
   "source": [
    "# Rental Bike Predictions with Sklearn Regression Trees\n",
    "## I. Setup"
   ]
  },
  {
   "cell_type": "code",
   "execution_count": 2,
   "id": "6858b7d7-459d-41da-96c2-26468369f3a1",
   "metadata": {},
   "outputs": [],
   "source": [
    "import json\n",
    "\n",
    "import matplotlib.pyplot as plt\n",
    "import numpy as np\n",
    "import pandas as pd\n",
    "import seaborn as sns\n",
    "\n",
    "import sklearn.feature_extraction\n",
    "import sklearn.tree as tree\n",
    "import sklearn.metrics as metrics\n",
    "# from sklearn.metrics import mean_absolute_error, median_absolute_error\n",
    "# from sklearn.metrics import mean_absolute_percentage_error\n",
    "# from sklearn.metrics import explained_variance_score\n",
    "\n",
    "import util"
   ]
  },
  {
   "cell_type": "code",
   "execution_count": 3,
   "id": "0bbf6376-9c49-4d6f-862c-edc7d77eac1f",
   "metadata": {},
   "outputs": [
    {
     "data": {
      "text/html": [
       "<div>\n",
       "<style scoped>\n",
       "    .dataframe tbody tr th:only-of-type {\n",
       "        vertical-align: middle;\n",
       "    }\n",
       "\n",
       "    .dataframe tbody tr th {\n",
       "        vertical-align: top;\n",
       "    }\n",
       "\n",
       "    .dataframe thead th {\n",
       "        text-align: right;\n",
       "    }\n",
       "</style>\n",
       "<table border=\"1\" class=\"dataframe\">\n",
       "  <thead>\n",
       "    <tr style=\"text-align: right;\">\n",
       "      <th></th>\n",
       "      <th>Date</th>\n",
       "      <th>Rented Bike Count</th>\n",
       "      <th>Hour</th>\n",
       "      <th>Temperature(°C)</th>\n",
       "      <th>Humidity(%)</th>\n",
       "      <th>Wind speed (m/s)</th>\n",
       "      <th>Visibility (10m)</th>\n",
       "      <th>Dew point temperature(°C)</th>\n",
       "      <th>Solar Radiation (MJ/m2)</th>\n",
       "      <th>Rainfall(mm)</th>\n",
       "      <th>Snowfall (cm)</th>\n",
       "      <th>Seasons</th>\n",
       "      <th>Holiday</th>\n",
       "      <th>Functioning Day</th>\n",
       "    </tr>\n",
       "  </thead>\n",
       "  <tbody>\n",
       "    <tr>\n",
       "      <th>0</th>\n",
       "      <td>1/12/2017</td>\n",
       "      <td>254</td>\n",
       "      <td>0</td>\n",
       "      <td>-5.2</td>\n",
       "      <td>37</td>\n",
       "      <td>2.2</td>\n",
       "      <td>2000</td>\n",
       "      <td>-17.6</td>\n",
       "      <td>0.0</td>\n",
       "      <td>0.0</td>\n",
       "      <td>0.0</td>\n",
       "      <td>Winter</td>\n",
       "      <td>No Holiday</td>\n",
       "      <td>Yes</td>\n",
       "    </tr>\n",
       "    <tr>\n",
       "      <th>1</th>\n",
       "      <td>1/12/2017</td>\n",
       "      <td>204</td>\n",
       "      <td>1</td>\n",
       "      <td>-5.5</td>\n",
       "      <td>38</td>\n",
       "      <td>0.8</td>\n",
       "      <td>2000</td>\n",
       "      <td>-17.6</td>\n",
       "      <td>0.0</td>\n",
       "      <td>0.0</td>\n",
       "      <td>0.0</td>\n",
       "      <td>Winter</td>\n",
       "      <td>No Holiday</td>\n",
       "      <td>Yes</td>\n",
       "    </tr>\n",
       "    <tr>\n",
       "      <th>2</th>\n",
       "      <td>1/12/2017</td>\n",
       "      <td>173</td>\n",
       "      <td>2</td>\n",
       "      <td>-6.0</td>\n",
       "      <td>39</td>\n",
       "      <td>1.0</td>\n",
       "      <td>2000</td>\n",
       "      <td>-17.7</td>\n",
       "      <td>0.0</td>\n",
       "      <td>0.0</td>\n",
       "      <td>0.0</td>\n",
       "      <td>Winter</td>\n",
       "      <td>No Holiday</td>\n",
       "      <td>Yes</td>\n",
       "    </tr>\n",
       "    <tr>\n",
       "      <th>3</th>\n",
       "      <td>1/12/2017</td>\n",
       "      <td>107</td>\n",
       "      <td>3</td>\n",
       "      <td>-6.2</td>\n",
       "      <td>40</td>\n",
       "      <td>0.9</td>\n",
       "      <td>2000</td>\n",
       "      <td>-17.6</td>\n",
       "      <td>0.0</td>\n",
       "      <td>0.0</td>\n",
       "      <td>0.0</td>\n",
       "      <td>Winter</td>\n",
       "      <td>No Holiday</td>\n",
       "      <td>Yes</td>\n",
       "    </tr>\n",
       "    <tr>\n",
       "      <th>4</th>\n",
       "      <td>1/12/2017</td>\n",
       "      <td>78</td>\n",
       "      <td>4</td>\n",
       "      <td>-6.0</td>\n",
       "      <td>36</td>\n",
       "      <td>2.3</td>\n",
       "      <td>2000</td>\n",
       "      <td>-18.6</td>\n",
       "      <td>0.0</td>\n",
       "      <td>0.0</td>\n",
       "      <td>0.0</td>\n",
       "      <td>Winter</td>\n",
       "      <td>No Holiday</td>\n",
       "      <td>Yes</td>\n",
       "    </tr>\n",
       "  </tbody>\n",
       "</table>\n",
       "</div>"
      ],
      "text/plain": [
       "        Date  Rented Bike Count  Hour  Temperature(°C)  Humidity(%)  \\\n",
       "0  1/12/2017                254     0             -5.2           37   \n",
       "1  1/12/2017                204     1             -5.5           38   \n",
       "2  1/12/2017                173     2             -6.0           39   \n",
       "3  1/12/2017                107     3             -6.2           40   \n",
       "4  1/12/2017                 78     4             -6.0           36   \n",
       "\n",
       "   Wind speed (m/s)  Visibility (10m)  Dew point temperature(°C)  \\\n",
       "0               2.2              2000                      -17.6   \n",
       "1               0.8              2000                      -17.6   \n",
       "2               1.0              2000                      -17.7   \n",
       "3               0.9              2000                      -17.6   \n",
       "4               2.3              2000                      -18.6   \n",
       "\n",
       "   Solar Radiation (MJ/m2)  Rainfall(mm)  Snowfall (cm) Seasons     Holiday  \\\n",
       "0                      0.0           0.0            0.0  Winter  No Holiday   \n",
       "1                      0.0           0.0            0.0  Winter  No Holiday   \n",
       "2                      0.0           0.0            0.0  Winter  No Holiday   \n",
       "3                      0.0           0.0            0.0  Winter  No Holiday   \n",
       "4                      0.0           0.0            0.0  Winter  No Holiday   \n",
       "\n",
       "  Functioning Day  \n",
       "0             Yes  \n",
       "1             Yes  \n",
       "2             Yes  \n",
       "3             Yes  \n",
       "4             Yes  "
      ]
     },
     "execution_count": 3,
     "metadata": {},
     "output_type": "execute_result"
    }
   ],
   "source": [
    "bikes = pd.read_csv(\"SeoulBikeData.csv\")\n",
    "train, dev = util.split(bikes, [0.8, 0.2], seed=2022)\n",
    "\n",
    "TARGET = \"Rented Bike Count\"\n",
    "train.head()"
   ]
  },
  {
   "cell_type": "markdown",
   "id": "b8c63f8b-0d90-465e-9e81-fb86e1793f58",
   "metadata": {},
   "source": [
    "## II. Prepare Data"
   ]
  },
  {
   "cell_type": "code",
   "execution_count": 4,
   "id": "7b0fea3d-b647-4e52-ab1b-dc0c8dc07822",
   "metadata": {},
   "outputs": [
    {
     "data": {
      "text/plain": [
       "array([ 254.,  204.,  173., ..., 1003.,  764.,  712.], dtype=float32)"
      ]
     },
     "execution_count": 4,
     "metadata": {},
     "output_type": "execute_result"
    }
   ],
   "source": [
    "train_y = np.array(train[\"Rented Bike Count\"], dtype=np.float32)\n",
    "dev_y = np.array(dev[\"Rented Bike Count\"], dtype=np.float32)\n",
    "train_y"
   ]
  },
  {
   "cell_type": "code",
   "execution_count": 26,
   "id": "8ce5c763-df27-46aa-827d-d4694c6d7f0c",
   "metadata": {},
   "outputs": [],
   "source": [
    "def df_to_json(df):\n",
    "    df_json = (\n",
    "        df.drop([\"Date\", \"Rented Bike Count\"], axis=1)\n",
    "        .to_json(orient=\"records\"))\n",
    "    return json.loads(df_json)"
   ]
  },
  {
   "cell_type": "code",
   "execution_count": 27,
   "id": "b2873fdf-4956-4452-a961-eb728098e65d",
   "metadata": {},
   "outputs": [
    {
     "data": {
      "text/plain": [
       "[{'Hour': 0,\n",
       "  'Temperature(°C)': -5.2,\n",
       "  'Humidity(%)': 37,\n",
       "  'Wind speed (m/s)': 2.2,\n",
       "  'Visibility (10m)': 2000,\n",
       "  'Dew point temperature(°C)': -17.6,\n",
       "  'Solar Radiation (MJ/m2)': 0.0,\n",
       "  'Rainfall(mm)': 0.0,\n",
       "  'Snowfall (cm)': 0.0,\n",
       "  'Seasons': 'Winter',\n",
       "  'Holiday': 'No Holiday',\n",
       "  'Functioning Day': 'Yes'},\n",
       " {'Hour': 1,\n",
       "  'Temperature(°C)': -5.5,\n",
       "  'Humidity(%)': 38,\n",
       "  'Wind speed (m/s)': 0.8,\n",
       "  'Visibility (10m)': 2000,\n",
       "  'Dew point temperature(°C)': -17.6,\n",
       "  'Solar Radiation (MJ/m2)': 0.0,\n",
       "  'Rainfall(mm)': 0.0,\n",
       "  'Snowfall (cm)': 0.0,\n",
       "  'Seasons': 'Winter',\n",
       "  'Holiday': 'No Holiday',\n",
       "  'Functioning Day': 'Yes'}]"
      ]
     },
     "execution_count": 27,
     "metadata": {},
     "output_type": "execute_result"
    }
   ],
   "source": [
    "train_x_json = df_to_json(train)\n",
    "dev_x_json =df_to_json(dev)\n",
    "train_x_json[:2]"
   ]
  },
  {
   "cell_type": "code",
   "execution_count": 29,
   "id": "00920355-8b2b-4161-9626-e9cd7337dd99",
   "metadata": {},
   "outputs": [
    {
     "data": {
      "text/plain": [
       "array([[-1.760e+01,  0.000e+00,  1.000e+00, ..., -5.200e+00,  2.000e+03,\n",
       "         2.200e+00],\n",
       "       [-1.760e+01,  0.000e+00,  1.000e+00, ..., -5.500e+00,  2.000e+03,\n",
       "         8.000e-01],\n",
       "       [-1.770e+01,  0.000e+00,  1.000e+00, ..., -6.000e+00,  2.000e+03,\n",
       "         1.000e+00],\n",
       "       ...,\n",
       "       [-1.030e+01,  0.000e+00,  1.000e+00, ...,  4.200e+00,  1.894e+03,\n",
       "         2.600e+00],\n",
       "       [-9.900e+00,  0.000e+00,  1.000e+00, ...,  3.400e+00,  2.000e+03,\n",
       "         2.300e+00],\n",
       "       [-9.800e+00,  0.000e+00,  1.000e+00, ...,  2.100e+00,  1.859e+03,\n",
       "         1.000e+00]])"
      ]
     },
     "execution_count": 29,
     "metadata": {},
     "output_type": "execute_result"
    }
   ],
   "source": [
    "dict_vectorizer = sklearn.feature_extraction.DictVectorizer(sparse=False)\n",
    "train_x = dict_vectorizer.fit_transform(train_x_json)\n",
    "dev_x = dict_vectorizer.transform(dev_x_json)\n",
    "train_x"
   ]
  },
  {
   "cell_type": "code",
   "execution_count": 30,
   "id": "781a3240-9608-4039-a078-b558c1f077db",
   "metadata": {},
   "outputs": [
    {
     "data": {
      "text/plain": [
       "array(['Dew point temperature(°C)', 'Functioning Day=No',\n",
       "       'Functioning Day=Yes', 'Holiday=Holiday', 'Holiday=No Holiday',\n",
       "       'Hour', 'Humidity(%)', 'Rainfall(mm)', 'Seasons=Autumn',\n",
       "       'Seasons=Spring', 'Seasons=Summer', 'Seasons=Winter',\n",
       "       'Snowfall (cm)', 'Solar Radiation (MJ/m2)', 'Temperature(°C)',\n",
       "       'Visibility (10m)', 'Wind speed (m/s)'], dtype=object)"
      ]
     },
     "execution_count": 30,
     "metadata": {},
     "output_type": "execute_result"
    }
   ],
   "source": [
    "feature_names = dict_vectorizer.get_feature_names_out()\n",
    "feature_names"
   ]
  },
  {
   "cell_type": "markdown",
   "id": "ef5b9b35-9649-49d2-a9fc-f5634c19a2bb",
   "metadata": {},
   "source": [
    "## III. Fit Decision Tree"
   ]
  },
  {
   "cell_type": "code",
   "execution_count": 60,
   "id": "0c2e9cba-00f4-4504-9e09-a6cad4066407",
   "metadata": {},
   "outputs": [],
   "source": [
    "model = tree.DecisionTreeRegressor(min_samples_leaf=10)\n",
    "model.fit(train_x, train_y)\n",
    "preds = model.predict(dev_x)"
   ]
  },
  {
   "cell_type": "code",
   "execution_count": 61,
   "id": "d2c24b62-41e9-44dc-851e-1a7de8c3509e",
   "metadata": {},
   "outputs": [
    {
     "data": {
      "image/png": "[encoded data removed]",
      "text/plain": [
       "<Figure size 1152x720 with 1 Axes>"
      ]
     },
     "metadata": {
      "needs_background": "light"
     },
     "output_type": "display_data"
    }
   ],
   "source": [
    "plt.figure(figsize=(16, 10))\n",
    "tree.plot_tree(model, max_depth=2, fontsize=10, feature_names=feature_names)\n",
    "plt.show()"
   ]
  },
  {
   "cell_type": "code",
   "execution_count": 62,
   "id": "0278ac76-ccc9-4305-8ef7-2e5bbd6362ca",
   "metadata": {},
   "outputs": [
    {
     "data": {
      "image/png": "[encoded data removed]",
      "text/plain": [
       "<Figure size 432x288 with 1 Axes>"
      ]
     },
     "metadata": {
      "needs_background": "light"
     },
     "output_type": "display_data"
    }
   ],
   "source": [
    "sns.histplot(dev_y)\n",
    "plt.title(\"Target Values\")\n",
    "plt.show()"
   ]
  },
  {
   "cell_type": "code",
   "execution_count": 63,
   "id": "768a4ebd-5cb0-480b-b6ff-238e09c98cd4",
   "metadata": {},
   "outputs": [
    {
     "data": {
      "image/png": "[encoded data removed]",
      "text/plain": [
       "<Figure size 432x288 with 1 Axes>"
      ]
     },
     "metadata": {
      "needs_background": "light"
     },
     "output_type": "display_data"
    }
   ],
   "source": [
    "sns.histplot(preds)\n",
    "plt.title(\"Predicted Values\")\n",
    "plt.show()"
   ]
  },
  {
   "cell_type": "code",
   "execution_count": 64,
   "id": "2b7f846a-dc8e-4460-a92a-df312bc1204f",
   "metadata": {},
   "outputs": [
    {
     "name": "stdout",
     "output_type": "stream",
     "text": [
      "Mean Absolute Error:\t\t 170.9\n",
      "Median Absolute Error:\t\t 92.3\n",
      "Explaned Variance Score:\t 0.8\n"
     ]
    }
   ],
   "source": [
    "mae = metrics.mean_absolute_error(dev_y, preds)\n",
    "print(\"Mean Absolute Error:\\t\\t\", f\"{mae:.1f}\")\n",
    "med_ae = metrics.median_absolute_error(dev_y, preds)\n",
    "print(\"Median Absolute Error:\\t\\t\", f\"{med_ae:.1f}\")\n",
    "evs = metrics.explained_variance_score(dev_y, preds)\n",
    "print(\"Explaned Variance Score:\\t\", f\"{evs:.1f}\")"
   ]
  },
  {
   "cell_type": "code",
   "execution_count": 65,
   "id": "5372c3ec-5956-4252-868a-bb13f76bdbbe",
   "metadata": {},
   "outputs": [
    {
     "data": {
      "text/html": [
       "<div>\n",
       "<style scoped>\n",
       "    .dataframe tbody tr th:only-of-type {\n",
       "        vertical-align: middle;\n",
       "    }\n",
       "\n",
       "    .dataframe tbody tr th {\n",
       "        vertical-align: top;\n",
       "    }\n",
       "\n",
       "    .dataframe thead th {\n",
       "        text-align: right;\n",
       "    }\n",
       "</style>\n",
       "<table border=\"1\" class=\"dataframe\">\n",
       "  <thead>\n",
       "    <tr style=\"text-align: right;\">\n",
       "      <th></th>\n",
       "      <th>true</th>\n",
       "      <th>pred</th>\n",
       "      <th>error</th>\n",
       "    </tr>\n",
       "  </thead>\n",
       "  <tbody>\n",
       "    <tr>\n",
       "      <th>1452</th>\n",
       "      <td>0.0</td>\n",
       "      <td>0.000000</td>\n",
       "      <td>0.000000</td>\n",
       "    </tr>\n",
       "    <tr>\n",
       "      <th>1463</th>\n",
       "      <td>0.0</td>\n",
       "      <td>0.000000</td>\n",
       "      <td>0.000000</td>\n",
       "    </tr>\n",
       "    <tr>\n",
       "      <th>594</th>\n",
       "      <td>0.0</td>\n",
       "      <td>186.909091</td>\n",
       "      <td>186.909091</td>\n",
       "    </tr>\n",
       "    <tr>\n",
       "      <th>1440</th>\n",
       "      <td>0.0</td>\n",
       "      <td>0.000000</td>\n",
       "      <td>0.000000</td>\n",
       "    </tr>\n",
       "    <tr>\n",
       "      <th>595</th>\n",
       "      <td>0.0</td>\n",
       "      <td>785.200000</td>\n",
       "      <td>785.200000</td>\n",
       "    </tr>\n",
       "    <tr>\n",
       "      <th>...</th>\n",
       "      <td>...</td>\n",
       "      <td>...</td>\n",
       "      <td>...</td>\n",
       "    </tr>\n",
       "    <tr>\n",
       "      <th>1321</th>\n",
       "      <td>3166.0</td>\n",
       "      <td>2832.941176</td>\n",
       "      <td>-333.058824</td>\n",
       "    </tr>\n",
       "    <tr>\n",
       "      <th>1026</th>\n",
       "      <td>3196.0</td>\n",
       "      <td>2832.941176</td>\n",
       "      <td>-363.058824</td>\n",
       "    </tr>\n",
       "    <tr>\n",
       "      <th>838</th>\n",
       "      <td>3245.0</td>\n",
       "      <td>1956.500000</td>\n",
       "      <td>-1288.500000</td>\n",
       "    </tr>\n",
       "    <tr>\n",
       "      <th>1364</th>\n",
       "      <td>3256.0</td>\n",
       "      <td>2832.941176</td>\n",
       "      <td>-423.058824</td>\n",
       "    </tr>\n",
       "    <tr>\n",
       "      <th>898</th>\n",
       "      <td>3309.0</td>\n",
       "      <td>2832.941176</td>\n",
       "      <td>-476.058824</td>\n",
       "    </tr>\n",
       "  </tbody>\n",
       "</table>\n",
       "<p>1752 rows × 3 columns</p>\n",
       "</div>"
      ],
      "text/plain": [
       "        true         pred        error\n",
       "1452     0.0     0.000000     0.000000\n",
       "1463     0.0     0.000000     0.000000\n",
       "594      0.0   186.909091   186.909091\n",
       "1440     0.0     0.000000     0.000000\n",
       "595      0.0   785.200000   785.200000\n",
       "...      ...          ...          ...\n",
       "1321  3166.0  2832.941176  -333.058824\n",
       "1026  3196.0  2832.941176  -363.058824\n",
       "838   3245.0  1956.500000 -1288.500000\n",
       "1364  3256.0  2832.941176  -423.058824\n",
       "898   3309.0  2832.941176  -476.058824\n",
       "\n",
       "[1752 rows x 3 columns]"
      ]
     },
     "execution_count": 65,
     "metadata": {},
     "output_type": "execute_result"
    }
   ],
   "source": [
    "residuals = pd.DataFrame({\"true\":dev_y, \"pred\":preds})\n",
    "residuals[\"error\"] = residuals.pred - residuals.true\n",
    "residuals = residuals.sort_values(\"true\")\n",
    "residuals"
   ]
  },
  {
   "cell_type": "code",
   "execution_count": 66,
   "id": "b0d800ae-ac2e-4ffc-8c9c-90d66a2a0598",
   "metadata": {},
   "outputs": [
    {
     "data": {
      "image/png": "[encoded data removed]",
      "text/plain": [
       "<Figure size 432x288 with 1 Axes>"
      ]
     },
     "metadata": {
      "needs_background": "light"
     },
     "output_type": "display_data"
    }
   ],
   "source": [
    "sns.scatterplot(data=residuals, x=\"true\", y=\"error\")\n",
    "plt.title(\"Error vs Bike Rental Count\")\n",
    "plt.show()"
   ]
  },
  {
   "cell_type": "code",
   "execution_count": 56,
   "id": "70d8a6d2-d50b-4fa7-96a6-06a71d966501",
   "metadata": {},
   "outputs": [
    {
     "data": {
      "image/png": "[encoded data removed]",
      "text/plain": [
       "<Figure size 432x288 with 1 Axes>"
      ]
     },
     "metadata": {
      "needs_background": "light"
     },
     "output_type": "display_data"
    }
   ],
   "source": [
    "sns.histplot(data=residuals, x=\"error\")\n",
    "plt.title(\"Error Histogram\")\n",
    "plt.show()"
   ]
  },
  {
   "cell_type": "code",
   "execution_count": 57,
   "id": "0657e397-b339-4195-89bb-5c01f2fc1bd6",
   "metadata": {},
   "outputs": [
    {
     "data": {
      "text/plain": [
       "101"
      ]
     },
     "execution_count": 57,
     "metadata": {},
     "output_type": "execute_result"
    }
   ],
   "source": [
    "model.tree_.node_count"
   ]
  },
  {
   "cell_type": "code",
   "execution_count": 58,
   "id": "e4a6dd80-a426-404c-b1cd-a923130a60b4",
   "metadata": {},
   "outputs": [
    {
     "data": {
      "text/plain": [
       "array([ 246.26213592,  269.7047619 ,  399.2481203 , ..., 1028.36082474,\n",
       "       1028.36082474, 1028.36082474])"
      ]
     },
     "execution_count": 58,
     "metadata": {},
     "output_type": "execute_result"
    }
   ],
   "source": [
    "preds"
   ]
  },
  {
   "cell_type": "code",
   "execution_count": 59,
   "id": "520f4c22-3ad1-478e-9efb-b6344bf1ae3d",
   "metadata": {},
   "outputs": [
    {
     "data": {
      "text/html": [
       "<div>\n",
       "<style scoped>\n",
       "    .dataframe tbody tr th:only-of-type {\n",
       "        vertical-align: middle;\n",
       "    }\n",
       "\n",
       "    .dataframe tbody tr th {\n",
       "        vertical-align: top;\n",
       "    }\n",
       "\n",
       "    .dataframe thead th {\n",
       "        text-align: right;\n",
       "    }\n",
       "</style>\n",
       "<table border=\"1\" class=\"dataframe\">\n",
       "  <thead>\n",
       "    <tr style=\"text-align: right;\">\n",
       "      <th></th>\n",
       "      <th>Date</th>\n",
       "      <th>Rented Bike Count</th>\n",
       "      <th>Hour</th>\n",
       "      <th>Temperature(°C)</th>\n",
       "      <th>Humidity(%)</th>\n",
       "      <th>Wind speed (m/s)</th>\n",
       "      <th>Visibility (10m)</th>\n",
       "      <th>Dew point temperature(°C)</th>\n",
       "      <th>Solar Radiation (MJ/m2)</th>\n",
       "      <th>Rainfall(mm)</th>\n",
       "      <th>Snowfall (cm)</th>\n",
       "      <th>Seasons</th>\n",
       "      <th>Holiday</th>\n",
       "      <th>Functioning Day</th>\n",
       "      <th>preds</th>\n",
       "    </tr>\n",
       "  </thead>\n",
       "  <tbody>\n",
       "    <tr>\n",
       "      <th>10</th>\n",
       "      <td>1/12/2017</td>\n",
       "      <td>339</td>\n",
       "      <td>10</td>\n",
       "      <td>-3.5</td>\n",
       "      <td>24</td>\n",
       "      <td>1.2</td>\n",
       "      <td>1996</td>\n",
       "      <td>-21.2</td>\n",
       "      <td>0.65</td>\n",
       "      <td>0.0</td>\n",
       "      <td>0.0</td>\n",
       "      <td>Winter</td>\n",
       "      <td>No Holiday</td>\n",
       "      <td>Yes</td>\n",
       "      <td>246.262136</td>\n",
       "    </tr>\n",
       "    <tr>\n",
       "      <th>12</th>\n",
       "      <td>1/12/2017</td>\n",
       "      <td>449</td>\n",
       "      <td>12</td>\n",
       "      <td>1.7</td>\n",
       "      <td>23</td>\n",
       "      <td>1.4</td>\n",
       "      <td>2000</td>\n",
       "      <td>-17.2</td>\n",
       "      <td>1.11</td>\n",
       "      <td>0.0</td>\n",
       "      <td>0.0</td>\n",
       "      <td>Winter</td>\n",
       "      <td>No Holiday</td>\n",
       "      <td>Yes</td>\n",
       "      <td>269.704762</td>\n",
       "    </tr>\n",
       "    <tr>\n",
       "      <th>17</th>\n",
       "      <td>1/12/2017</td>\n",
       "      <td>555</td>\n",
       "      <td>17</td>\n",
       "      <td>0.8</td>\n",
       "      <td>58</td>\n",
       "      <td>1.6</td>\n",
       "      <td>2000</td>\n",
       "      <td>-6.5</td>\n",
       "      <td>0.08</td>\n",
       "      <td>0.0</td>\n",
       "      <td>0.0</td>\n",
       "      <td>Winter</td>\n",
       "      <td>No Holiday</td>\n",
       "      <td>Yes</td>\n",
       "      <td>399.248120</td>\n",
       "    </tr>\n",
       "    <tr>\n",
       "      <th>34</th>\n",
       "      <td>2/12/2017</td>\n",
       "      <td>334</td>\n",
       "      <td>10</td>\n",
       "      <td>-0.4</td>\n",
       "      <td>57</td>\n",
       "      <td>1.6</td>\n",
       "      <td>1309</td>\n",
       "      <td>-7.8</td>\n",
       "      <td>0.80</td>\n",
       "      <td>0.0</td>\n",
       "      <td>0.0</td>\n",
       "      <td>Winter</td>\n",
       "      <td>No Holiday</td>\n",
       "      <td>Yes</td>\n",
       "      <td>269.704762</td>\n",
       "    </tr>\n",
       "    <tr>\n",
       "      <th>38</th>\n",
       "      <td>2/12/2017</td>\n",
       "      <td>611</td>\n",
       "      <td>14</td>\n",
       "      <td>7.3</td>\n",
       "      <td>35</td>\n",
       "      <td>1.3</td>\n",
       "      <td>1955</td>\n",
       "      <td>-7.1</td>\n",
       "      <td>0.99</td>\n",
       "      <td>0.0</td>\n",
       "      <td>0.0</td>\n",
       "      <td>Winter</td>\n",
       "      <td>No Holiday</td>\n",
       "      <td>Yes</td>\n",
       "      <td>397.089041</td>\n",
       "    </tr>\n",
       "    <tr>\n",
       "      <th>...</th>\n",
       "      <td>...</td>\n",
       "      <td>...</td>\n",
       "      <td>...</td>\n",
       "      <td>...</td>\n",
       "      <td>...</td>\n",
       "      <td>...</td>\n",
       "      <td>...</td>\n",
       "      <td>...</td>\n",
       "      <td>...</td>\n",
       "      <td>...</td>\n",
       "      <td>...</td>\n",
       "      <td>...</td>\n",
       "      <td>...</td>\n",
       "      <td>...</td>\n",
       "      <td>...</td>\n",
       "    </tr>\n",
       "    <tr>\n",
       "      <th>8748</th>\n",
       "      <td>30/11/2018</td>\n",
       "      <td>720</td>\n",
       "      <td>12</td>\n",
       "      <td>6.6</td>\n",
       "      <td>35</td>\n",
       "      <td>1.3</td>\n",
       "      <td>1409</td>\n",
       "      <td>-7.8</td>\n",
       "      <td>1.70</td>\n",
       "      <td>0.0</td>\n",
       "      <td>0.0</td>\n",
       "      <td>Autumn</td>\n",
       "      <td>No Holiday</td>\n",
       "      <td>Yes</td>\n",
       "      <td>824.089431</td>\n",
       "    </tr>\n",
       "    <tr>\n",
       "      <th>8750</th>\n",
       "      <td>30/11/2018</td>\n",
       "      <td>761</td>\n",
       "      <td>14</td>\n",
       "      <td>7.8</td>\n",
       "      <td>20</td>\n",
       "      <td>2.2</td>\n",
       "      <td>2000</td>\n",
       "      <td>-13.8</td>\n",
       "      <td>1.67</td>\n",
       "      <td>0.0</td>\n",
       "      <td>0.0</td>\n",
       "      <td>Autumn</td>\n",
       "      <td>No Holiday</td>\n",
       "      <td>Yes</td>\n",
       "      <td>824.089431</td>\n",
       "    </tr>\n",
       "    <tr>\n",
       "      <th>8754</th>\n",
       "      <td>30/11/2018</td>\n",
       "      <td>1384</td>\n",
       "      <td>18</td>\n",
       "      <td>4.7</td>\n",
       "      <td>34</td>\n",
       "      <td>1.9</td>\n",
       "      <td>1661</td>\n",
       "      <td>-9.8</td>\n",
       "      <td>0.00</td>\n",
       "      <td>0.0</td>\n",
       "      <td>0.0</td>\n",
       "      <td>Autumn</td>\n",
       "      <td>No Holiday</td>\n",
       "      <td>Yes</td>\n",
       "      <td>1028.360825</td>\n",
       "    </tr>\n",
       "    <tr>\n",
       "      <th>8757</th>\n",
       "      <td>30/11/2018</td>\n",
       "      <td>694</td>\n",
       "      <td>21</td>\n",
       "      <td>2.6</td>\n",
       "      <td>39</td>\n",
       "      <td>0.3</td>\n",
       "      <td>1968</td>\n",
       "      <td>-9.9</td>\n",
       "      <td>0.00</td>\n",
       "      <td>0.0</td>\n",
       "      <td>0.0</td>\n",
       "      <td>Autumn</td>\n",
       "      <td>No Holiday</td>\n",
       "      <td>Yes</td>\n",
       "      <td>1028.360825</td>\n",
       "    </tr>\n",
       "    <tr>\n",
       "      <th>8759</th>\n",
       "      <td>30/11/2018</td>\n",
       "      <td>584</td>\n",
       "      <td>23</td>\n",
       "      <td>1.9</td>\n",
       "      <td>43</td>\n",
       "      <td>1.3</td>\n",
       "      <td>1909</td>\n",
       "      <td>-9.3</td>\n",
       "      <td>0.00</td>\n",
       "      <td>0.0</td>\n",
       "      <td>0.0</td>\n",
       "      <td>Autumn</td>\n",
       "      <td>No Holiday</td>\n",
       "      <td>Yes</td>\n",
       "      <td>1028.360825</td>\n",
       "    </tr>\n",
       "  </tbody>\n",
       "</table>\n",
       "<p>1752 rows × 15 columns</p>\n",
       "</div>"
      ],
      "text/plain": [
       "            Date  Rented Bike Count  Hour  Temperature(°C)  Humidity(%)  \\\n",
       "10     1/12/2017                339    10             -3.5           24   \n",
       "12     1/12/2017                449    12              1.7           23   \n",
       "17     1/12/2017                555    17              0.8           58   \n",
       "34     2/12/2017                334    10             -0.4           57   \n",
       "38     2/12/2017                611    14              7.3           35   \n",
       "...          ...                ...   ...              ...          ...   \n",
       "8748  30/11/2018                720    12              6.6           35   \n",
       "8750  30/11/2018                761    14              7.8           20   \n",
       "8754  30/11/2018               1384    18              4.7           34   \n",
       "8757  30/11/2018                694    21              2.6           39   \n",
       "8759  30/11/2018                584    23              1.9           43   \n",
       "\n",
       "      Wind speed (m/s)  Visibility (10m)  Dew point temperature(°C)  \\\n",
       "10                 1.2              1996                      -21.2   \n",
       "12                 1.4              2000                      -17.2   \n",
       "17                 1.6              2000                       -6.5   \n",
       "34                 1.6              1309                       -7.8   \n",
       "38                 1.3              1955                       -7.1   \n",
       "...                ...               ...                        ...   \n",
       "8748               1.3              1409                       -7.8   \n",
       "8750               2.2              2000                      -13.8   \n",
       "8754               1.9              1661                       -9.8   \n",
       "8757               0.3              1968                       -9.9   \n",
       "8759               1.3              1909                       -9.3   \n",
       "\n",
       "      Solar Radiation (MJ/m2)  Rainfall(mm)  Snowfall (cm) Seasons  \\\n",
       "10                       0.65           0.0            0.0  Winter   \n",
       "12                       1.11           0.0            0.0  Winter   \n",
       "17                       0.08           0.0            0.0  Winter   \n",
       "34                       0.80           0.0            0.0  Winter   \n",
       "38                       0.99           0.0            0.0  Winter   \n",
       "...                       ...           ...            ...     ...   \n",
       "8748                     1.70           0.0            0.0  Autumn   \n",
       "8750                     1.67           0.0            0.0  Autumn   \n",
       "8754                     0.00           0.0            0.0  Autumn   \n",
       "8757                     0.00           0.0            0.0  Autumn   \n",
       "8759                     0.00           0.0            0.0  Autumn   \n",
       "\n",
       "         Holiday Functioning Day        preds  \n",
       "10    No Holiday             Yes   246.262136  \n",
       "12    No Holiday             Yes   269.704762  \n",
       "17    No Holiday             Yes   399.248120  \n",
       "34    No Holiday             Yes   269.704762  \n",
       "38    No Holiday             Yes   397.089041  \n",
       "...          ...             ...          ...  \n",
       "8748  No Holiday             Yes   824.089431  \n",
       "8750  No Holiday             Yes   824.089431  \n",
       "8754  No Holiday             Yes  1028.360825  \n",
       "8757  No Holiday             Yes  1028.360825  \n",
       "8759  No Holiday             Yes  1028.360825  \n",
       "\n",
       "[1752 rows x 15 columns]"
      ]
     },
     "execution_count": 59,
     "metadata": {},
     "output_type": "execute_result"
    }
   ],
   "source": [
    "dev.assign(preds=preds)"
   ]
  },
  {
   "cell_type": "code",
   "execution_count": null,
   "id": "175c24ab-db88-4328-9fd9-35d8dfdf3df1",
   "metadata": {},
   "outputs": [],
   "source": []
  }
 ],
 "metadata": {
  "kernelspec": {
   "display_name": "Python 3 (ipykernel)",
   "language": "python",
   "name": "python3"
  },
  "language_info": {
   "codemirror_mode": {
    "name": "ipython",
    "version": 3
   },
   "file_extension": ".py",
   "mimetype": "text/x-python",
   "name": "python",
   "nbconvert_exporter": "python",
   "pygments_lexer": "ipython3",
   "version": "3.9.7"
  }
 },
 "nbformat": 4,
 "nbformat_minor": 5
}
